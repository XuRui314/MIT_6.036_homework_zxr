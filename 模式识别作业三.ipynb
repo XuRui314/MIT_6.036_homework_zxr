{
  "nbformat": 4,
  "nbformat_minor": 0,
  "metadata": {
    "colab": {
      "provenance": [],
      "collapsed_sections": [],
      "authorship_tag": "ABX9TyNW5hMk89JbWf6sDP6EmKQ5",
      "include_colab_link": true
    },
    "kernelspec": {
      "name": "python3",
      "display_name": "Python 3"
    },
    "language_info": {
      "name": "python"
    }
  },
  "cells": [
    {
      "cell_type": "markdown",
      "metadata": {
        "id": "view-in-github",
        "colab_type": "text"
      },
      "source": [
        "<a href=\"https://colab.research.google.com/github/XuRui314/MIT_6.036_homework_zxr/blob/main/%E6%A8%A1%E5%BC%8F%E8%AF%86%E5%88%AB%E4%BD%9C%E4%B8%9A%E4%B8%89.ipynb\" target=\"_parent\"><img src=\"https://colab.research.google.com/assets/colab-badge.svg\" alt=\"Open In Colab\"/></a>"
      ]
    },
    {
      "cell_type": "markdown",
      "source": [
        "手写EM：https://medium.com/@prateek.shubham.94/expectation-maximization-algorithm-7a4d1b65ca55"
      ],
      "metadata": {
        "id": "CC29YCMSQDsI"
      }
    },
    {
      "cell_type": "markdown",
      "source": [
        "计算状态序列的概率，暴搜一下+transition matrix and emission matrix"
      ],
      "metadata": {
        "id": "CJUTk54Z3rDR"
      }
    },
    {
      "cell_type": "code",
      "execution_count": 2,
      "metadata": {
        "id": "HwR-N5TGPbOI"
      },
      "outputs": [],
      "source": [
        "import numpy as np\n",
        "A = np.array([[0.2,0.6,0.2],[0,0.7,0.3],[0,0.2,0.8]])\n",
        "B = np.array([[0.1,0.2,0.3,0.4],[0.1,0.3,0.5,0.1],[0.2,0.2,0.3,0.3]])\n",
        "state0 = np.array([0.7,0.2,0.1])"
      ]
    },
    {
      "cell_type": "code",
      "source": [
        "def probCalculate(A, B, state0, Sseqs, Oseqs):\n",
        "  # Sseq is the list of state\n",
        "  # 默认Sseq和Oseq的长度是一样的\n",
        "  prob = 1\n",
        "  for i in range(Sseqs.shape[0]):\n",
        "    state = Sseqs[i]\n",
        "    observe = Oseqs[i]\n",
        "    if(i == 0):\n",
        "      prob *= state0[state - 1] * B[state - 1, observe - 1]\n",
        "      # print(\"Observe:\",i,\" The prob is \", prob)\n",
        "    else:\n",
        "      oldstate = Sseqs[i-1]\n",
        "      prob *= A[oldstate - 1, state - 1] * B[state - 1, observe - 1]\n",
        "      # print(\"Observe:\",i,\" The prob is \", prob)\n",
        "  return prob"
      ],
      "metadata": {
        "id": "bFdTUSwW4UER"
      },
      "execution_count": 35,
      "outputs": []
    },
    {
      "cell_type": "code",
      "source": [
        "# 测试一下\n",
        "probCalculate(A,B,state0, np.array([1,2,2,2]), np.array([1,3,4,3]))"
      ],
      "metadata": {
        "colab": {
          "base_uri": "https://localhost:8080/"
        },
        "id": "YPzoO5g--RCR",
        "outputId": "2408536d-8b09-4697-aff3-650dd9269a9c"
      },
      "execution_count": 38,
      "outputs": [
        {
          "output_type": "stream",
          "name": "stdout",
          "text": [
            "Observe: 0  The prob is  0.06999999999999999\n",
            "Observe: 1  The prob is  0.020999999999999998\n",
            "Observe: 2  The prob is  0.0014699999999999997\n",
            "Observe: 3  The prob is  0.0005144999999999999\n"
          ]
        },
        {
          "output_type": "execute_result",
          "data": {
            "text/plain": [
              "0.0005144999999999999"
            ]
          },
          "metadata": {},
          "execution_count": 38
        }
      ]
    },
    {
      "cell_type": "code",
      "source": [
        "maxprob = 0\n",
        "maxseq = []\n",
        "for i in range(3):\n",
        "  for j in range(3):\n",
        "    for m in range(3):\n",
        "      for n in range(3):\n",
        "        prob = probCalculate(A,B,state0, np.array([i + 1,j + 1,m + 1, n + 1]), np.array([1,3,4,3]))\n",
        "        if(prob != 0):\n",
        "          if(prob > maxprob):\n",
        "            maxseq = [i + 1,j + 1,m + 1, n + 1]\n",
        "            maxprob = prob\n",
        "          print(\"State seq: \",i + 1,j + 1,m + 1, n + 1)\n",
        "          print(\"Seq prob is: \",prob)"
      ],
      "metadata": {
        "colab": {
          "base_uri": "https://localhost:8080/"
        },
        "id": "g6YJoOttDOzv",
        "outputId": "79aaac23-1de4-4e8a-f778-13650214c191"
      },
      "execution_count": 32,
      "outputs": [
        {
          "output_type": "stream",
          "name": "stdout",
          "text": [
            "State seq:  1 1 1 1\n",
            "Seq prob is:  2.016e-05\n",
            "State seq:  1 1 1 2\n",
            "Seq prob is:  0.00010080000000000001\n",
            "State seq:  1 1 1 3\n",
            "Seq prob is:  2.016e-05\n",
            "State seq:  1 1 2 2\n",
            "Seq prob is:  8.819999999999999e-05\n",
            "State seq:  1 1 2 3\n",
            "Seq prob is:  2.268e-05\n",
            "State seq:  1 1 3 2\n",
            "Seq prob is:  2.5200000000000003e-05\n",
            "State seq:  1 1 3 3\n",
            "Seq prob is:  6.048e-05\n",
            "State seq:  1 2 2 2\n",
            "Seq prob is:  0.0005144999999999999\n",
            "State seq:  1 2 2 3\n",
            "Seq prob is:  0.00013229999999999996\n",
            "State seq:  1 2 3 2\n",
            "Seq prob is:  0.00018899999999999999\n",
            "State seq:  1 2 3 3\n",
            "Seq prob is:  0.0004535999999999999\n",
            "State seq:  1 3 2 2\n",
            "Seq prob is:  2.94e-05\n",
            "State seq:  1 3 2 3\n",
            "Seq prob is:  7.5600000000000005e-06\n",
            "State seq:  1 3 3 2\n",
            "Seq prob is:  0.00010080000000000001\n",
            "State seq:  1 3 3 3\n",
            "Seq prob is:  0.00024192\n",
            "State seq:  2 2 2 2\n",
            "Seq prob is:  0.0001715\n",
            "State seq:  2 2 2 3\n",
            "Seq prob is:  4.4099999999999995e-05\n",
            "State seq:  2 2 3 2\n",
            "Seq prob is:  6.3e-05\n",
            "State seq:  2 2 3 3\n",
            "Seq prob is:  0.0001512\n",
            "State seq:  2 3 2 2\n",
            "Seq prob is:  1.2600000000000005e-05\n",
            "State seq:  2 3 2 3\n",
            "Seq prob is:  3.240000000000001e-06\n",
            "State seq:  2 3 3 2\n",
            "Seq prob is:  4.320000000000001e-05\n",
            "State seq:  2 3 3 3\n",
            "Seq prob is:  0.00010368000000000002\n",
            "State seq:  3 2 2 2\n",
            "Seq prob is:  4.9000000000000005e-05\n",
            "State seq:  3 2 2 3\n",
            "Seq prob is:  1.2600000000000001e-05\n",
            "State seq:  3 2 3 2\n",
            "Seq prob is:  1.8000000000000004e-05\n",
            "State seq:  3 2 3 3\n",
            "Seq prob is:  4.3200000000000007e-05\n",
            "State seq:  3 3 2 2\n",
            "Seq prob is:  3.360000000000001e-05\n",
            "State seq:  3 3 2 3\n",
            "Seq prob is:  8.640000000000002e-06\n",
            "State seq:  3 3 3 2\n",
            "Seq prob is:  0.00011520000000000001\n",
            "State seq:  3 3 3 3\n",
            "Seq prob is:  0.00027648\n"
          ]
        }
      ]
    },
    {
      "cell_type": "code",
      "source": [
        "maxseq"
      ],
      "metadata": {
        "colab": {
          "base_uri": "https://localhost:8080/"
        },
        "id": "5xHjlswXD_V-",
        "outputId": "a58d5e4d-d64e-4ff2-d3f1-4318009503a1"
      },
      "execution_count": 26,
      "outputs": [
        {
          "output_type": "execute_result",
          "data": {
            "text/plain": [
              "[1, 2, 2, 2]"
            ]
          },
          "metadata": {},
          "execution_count": 26
        }
      ]
    },
    {
      "cell_type": "code",
      "source": [],
      "metadata": {
        "id": "iHPs6ZIqFC9w"
      },
      "execution_count": null,
      "outputs": []
    }
  ]
}