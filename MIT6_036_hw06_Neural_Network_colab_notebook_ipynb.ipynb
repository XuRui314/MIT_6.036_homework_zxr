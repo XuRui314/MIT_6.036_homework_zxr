{
  "nbformat": 4,
  "nbformat_minor": 0,
  "metadata": {
    "colab": {
      "name": "“MIT6.036 hw06 colab notebook.ipynb”的副本",
      "provenance": [],
      "collapsed_sections": [],
      "include_colab_link": true
    },
    "kernelspec": {
      "name": "python3",
      "display_name": "Python 3"
    }
  },
  "cells": [
    {
      "cell_type": "markdown",
      "metadata": {
        "id": "view-in-github",
        "colab_type": "text"
      },
      "source": [
        "<a href=\"https://colab.research.google.com/github/XuRui314/MIT_6.036_homework_zxr/blob/main/MIT6_036_hw06_Neural_Network_colab_notebook_ipynb.ipynb\" target=\"_parent\"><img src=\"https://colab.research.google.com/assets/colab-badge.svg\" alt=\"Open In Colab\"/></a>"
      ]
    },
    {
      "metadata": {
        "id": "1vjtYChCxpJo"
      },
      "cell_type": "markdown",
      "source": [
        "# MIT 6.036 Spring 2019: Homework 6\n",
        "\n",
        "This homework does not include provided Python code. Instead, we encourage you to write your own code to help you answer some of these problems, and/or test and debug the code components we do ask for. All of the problems should be simple enough that hand calculation should be possible, but it may be convenient to write some short programs to explore the neural networks, particularly for problem 2.\n"
      ]
    },
    {
      "metadata": {
        "id": "Q0278eUVx91Z"
      },
      "cell_type": "code",
      "source": [
        "import numpy as np\n",
        "\n",
        "def SM(z):\n",
        "  # implement softmax\n",
        "  return np.exp(z) / np.sum(np.exp(z), axis = 0)\n"
      ],
      "execution_count": 26,
      "outputs": []
    },
    {
      "metadata": {
        "id": "nhKmop0MBh9R"
      },
      "cell_type": "markdown",
      "source": [
        " **Problem 2A**"
      ]
    },
    {
      "metadata": {
        "id": "g0093Y5sBitt",
        "colab": {
          "base_uri": "https://localhost:8080/"
        },
        "outputId": "f0fd794e-da81-4b08-9265-54f6fd26128b"
      },
      "cell_type": "code",
      "source": [
        "z = np.array([[-1, 0, 1]]).T\n",
        "SM(z).tolist()"
      ],
      "execution_count": 27,
      "outputs": [
        {
          "output_type": "execute_result",
          "data": {
            "text/plain": [
              "[[0.09003057317038046], [0.24472847105479767], [0.6652409557748219]]"
            ]
          },
          "metadata": {},
          "execution_count": 27
        }
      ]
    },
    {
      "metadata": {
        "id": "4ZigPSFHBOWy"
      },
      "cell_type": "markdown",
      "source": [
        "**Problem 2.C-F**\n",
        "\n",
        "Use the formula ${\\partial  \\over \\partial W^L_{k,j}}NLL(a^L,y) = x_k(a^L_j - y_j)$\n",
        "\n",
        "The matrix form is ${\\partial  \\over \\partial W^L}NLL(a^L,y) = x(a^L - y)^T$"
      ]
    },
    {
      "metadata": {
        "id": "McPjfdEPBSNs",
        "colab": {
          "base_uri": "https://localhost:8080/"
        },
        "outputId": "e97c4317-2071-4727-8058-32e99653a5fd"
      },
      "cell_type": "code",
      "source": [
        "w = np.array([[1, -1, -2], [-1, 2, 1]])\n",
        "x = np.array([[1], [1]])\n",
        "y = np.array([[0, 1, 0]]).T\n",
        "\n",
        "# linear sum\n",
        "z = w.T@x\n",
        "# activation function\n",
        "a = SM(z)\n",
        "\n",
        "dw = x @ (a-y).T\n",
        "print(df)"
      ],
      "execution_count": 28,
      "outputs": [
        {
          "output_type": "stream",
          "name": "stdout",
          "text": [
            "[[ 0.24472847 -0.33475904  0.09003057]\n",
            " [ 0.24472847 -0.33475904  0.09003057]]\n"
          ]
        }
      ]
    },
    {
      "cell_type": "code",
      "source": [
        "# probability\n",
        "SM(w.T@x)"
      ],
      "metadata": {
        "colab": {
          "base_uri": "https://localhost:8080/"
        },
        "id": "A5_5Wi0XYWE9",
        "outputId": "2b727efc-261c-46c2-8967-7c459e79767d"
      },
      "execution_count": 29,
      "outputs": [
        {
          "output_type": "execute_result",
          "data": {
            "text/plain": [
              "array([[0.24472847],\n",
              "       [0.66524096],\n",
              "       [0.09003057]])"
            ]
          },
          "metadata": {},
          "execution_count": 29
        }
      ]
    },
    {
      "cell_type": "code",
      "source": [
        "# update\n",
        "step_size = 0.5\n",
        "w1 =w - dw * step_size\n",
        "w1"
      ],
      "metadata": {
        "colab": {
          "base_uri": "https://localhost:8080/"
        },
        "id": "hf9oxmIYWmH1",
        "outputId": "bb95bb9e-d69a-4617-cc8d-b7ff2dd084a4"
      },
      "execution_count": 30,
      "outputs": [
        {
          "output_type": "execute_result",
          "data": {
            "text/plain": [
              "array([[ 0.87763576, -0.83262048, -2.04501529],\n",
              "       [-1.12236424,  2.16737952,  0.95498471]])"
            ]
          },
          "metadata": {},
          "execution_count": 30
        }
      ]
    },
    {
      "cell_type": "code",
      "source": [
        "# probability\n",
        "SM(w1.T@x)"
      ],
      "metadata": {
        "colab": {
          "base_uri": "https://localhost:8080/"
        },
        "id": "5-RZRmXqYgf8",
        "outputId": "6bae413c-4b12-42c0-ac0c-aa875915ba76"
      },
      "execution_count": 31,
      "outputs": [
        {
          "output_type": "execute_result",
          "data": {
            "text/plain": [
              "array([[0.15918761],\n",
              "       [0.77245284],\n",
              "       [0.06835955]])"
            ]
          },
          "metadata": {},
          "execution_count": 31
        }
      ]
    },
    {
      "metadata": {
        "id": "6nefgHcxHgLe"
      },
      "cell_type": "markdown",
      "source": [
        "**Problem 3**"
      ]
    },
    {
      "metadata": {
        "id": "hFMHmf8NHgY5",
        "colab": {
          "base_uri": "https://localhost:8080/"
        },
        "outputId": "44e7f77e-e4ca-4eb9-b8fc-c048c26f7a1a"
      },
      "cell_type": "code",
      "source": [
        "# layer 1 weights\n",
        "w_1 = np.array([[1, 0, -1, 0], [0, 1, 0, -1]])\n",
        "w_1_bias = np.array([[-1, -1, -1, -1]]).T\n",
        "# layer 2 weights\n",
        "w_2 = np.array([[1, -1], [1, -1], [1, -1], [1, -1]])\n",
        "w_2_bias = np.array([[0, 2]]).T\n",
        "\n",
        "x = np.array([[3, 14]]).T\n",
        "z_1 = w_1.T@x + w_1_bias\n",
        "a_1 = np.where( z_1 > 0,z_1, 0)\n",
        "\n",
        "z_2 = w_2.T@a_1 + w_2_bias\n",
        "a_2 = SM(z_2)\n",
        "a_2\n"
      ],
      "execution_count": 32,
      "outputs": [
        {
          "output_type": "execute_result",
          "data": {
            "text/plain": [
              "array([[1.00000000e+00],\n",
              "       [6.91440011e-13]])"
            ]
          },
          "metadata": {},
          "execution_count": 32
        }
      ]
    },
    {
      "cell_type": "code",
      "source": [
        "x1 = np.array([[0, 2]]).T\n",
        "z = w_1.T@x1 + w_1_bias\n",
        "a = np.where( z > 0,z, 0)\n",
        "a"
      ],
      "metadata": {
        "colab": {
          "base_uri": "https://localhost:8080/"
        },
        "id": "NvrOeQQOvhI7",
        "outputId": "54ef38f2-5cbb-4bcf-ddc5-09b57216fa8b"
      },
      "execution_count": 38,
      "outputs": [
        {
          "output_type": "execute_result",
          "data": {
            "text/plain": [
              "array([[0],\n",
              "       [1],\n",
              "       [0],\n",
              "       [0]])"
            ]
          },
          "metadata": {},
          "execution_count": 38
        }
      ]
    },
    {
      "metadata": {
        "id": "5Qtv3VR2AA_m",
        "colab": {
          "base_uri": "https://localhost:8080/"
        },
        "outputId": "8df8630b-7504-46f1-e9a6-3e44acd20c8c"
      },
      "cell_type": "code",
      "source": [
        "import numpy as np\n",
        "\n",
        "T  = np.matrix([[0.0 , 0.1 , 0.9 , 0.0],\n",
        "[0.9 , 0.1 , 0.0 , 0.0],\n",
        "[0.0 , 0.0 , 0.1 , 0.9],\n",
        "[0.9 , 0.0 , 0.0 , 0.1]])\n",
        "g = 0.9\n",
        "r = np.matrix([0, 1., 0., 2.]).reshape(4, 1)\n",
        "\n",
        "print(np.linalg.solve(np.eye(4) - g * T, r))"
      ],
      "execution_count": 20,
      "outputs": [
        {
          "output_type": "stream",
          "name": "stdout",
          "text": [
            "[[6.05288295]\n",
            " [6.48663207]\n",
            " [6.7519581 ]\n",
            " [7.58553317]]\n"
          ]
        }
      ]
    }
  ]
}