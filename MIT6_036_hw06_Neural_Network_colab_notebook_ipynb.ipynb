{
  "nbformat": 4,
  "nbformat_minor": 0,
  "metadata": {
    "colab": {
      "name": "“MIT6.036 hw06 colab notebook.ipynb”的副本",
      "provenance": [],
      "collapsed_sections": [],
      "include_colab_link": true
    },
    "kernelspec": {
      "name": "python3",
      "display_name": "Python 3"
    }
  },
  "cells": [
    {
      "cell_type": "markdown",
      "metadata": {
        "id": "view-in-github",
        "colab_type": "text"
      },
      "source": [
        "<a href=\"https://colab.research.google.com/github/XuRui314/MIT_6.036_homework_zxr/blob/main/MIT6_036_hw06_Neural_Network_colab_notebook_ipynb.ipynb\" target=\"_parent\"><img src=\"https://colab.research.google.com/assets/colab-badge.svg\" alt=\"Open In Colab\"/></a>"
      ]
    },
    {
      "metadata": {
        "id": "1vjtYChCxpJo"
      },
      "cell_type": "markdown",
      "source": [
        "# MIT 6.036 Spring 2019: Homework 6\n",
        "\n",
        "This homework does not include provided Python code. Instead, we encourage you to write your own code to help you answer some of these problems, and/or test and debug the code components we do ask for. All of the problems should be simple enough that hand calculation should be possible, but it may be convenient to write some short programs to explore the neural networks, particularly for problem 2.\n"
      ]
    },
    {
      "metadata": {
        "id": "Q0278eUVx91Z"
      },
      "cell_type": "code",
      "source": [
        "import numpy as np\n",
        "\n",
        "def SM(z):\n",
        "  # implement softmax\n",
        "  ez = np.exp(z)\n",
        "  return ez / np.sum(ez, axis = 0)\n"
      ],
      "execution_count": null,
      "outputs": []
    },
    {
      "metadata": {
        "id": "nhKmop0MBh9R"
      },
      "cell_type": "markdown",
      "source": [
        " **Problem 2A**"
      ]
    },
    {
      "metadata": {
        "id": "g0093Y5sBitt"
      },
      "cell_type": "code",
      "source": [
        "z = np.array([[-1, 0, 1]]).T\n",
        "# your code here"
      ],
      "execution_count": null,
      "outputs": []
    },
    {
      "metadata": {
        "id": "4ZigPSFHBOWy"
      },
      "cell_type": "markdown",
      "source": [
        "**Problem 2.C-F**"
      ]
    },
    {
      "metadata": {
        "id": "McPjfdEPBSNs",
        "colab": {
          "base_uri": "https://localhost:8080/"
        },
        "outputId": "10eb4ba1-0cad-4134-ca5c-7de8ac90027f"
      },
      "cell_type": "code",
      "source": [
        "w = np.array([[1, -1, -2], [-1, 2, 1]])\n",
        "x = np.array([[1], [1]])\n",
        "y = np.array([[0, 1, 0]]).T\n",
        "# your code here\n",
        "z = w.T@x\n",
        "a = SM(z)\n",
        "df = x @ (a-y).T\n",
        "print(df)"
      ],
      "execution_count": null,
      "outputs": [
        {
          "output_type": "stream",
          "name": "stdout",
          "text": [
            "[[ 0.24472847 -0.33475904  0.09003057]\n",
            " [ 0.24472847 -0.33475904  0.09003057]]\n"
          ]
        }
      ]
    },
    {
      "metadata": {
        "id": "6nefgHcxHgLe"
      },
      "cell_type": "markdown",
      "source": [
        "**Problem 3**"
      ]
    },
    {
      "metadata": {
        "id": "hFMHmf8NHgY5"
      },
      "cell_type": "code",
      "source": [
        "# layer 1 weights\n",
        "w_1 = np.array([[1, 0, -1, 0], [0, 1, 0, -1]])\n",
        "w_1_bias = np.array([[-1, -1, -1, -1]]).T\n",
        "# layer 2 weights\n",
        "w_2 = np.array([[1, -1], [1, -1], [1, -1], [1, -1]])\n",
        "w_2_bias = np.array([[0, 2]]).T\n",
        "\n",
        "# your code here"
      ],
      "execution_count": null,
      "outputs": []
    },
    {
      "metadata": {
        "id": "5Qtv3VR2AA_m",
        "colab": {
          "base_uri": "https://localhost:8080/",
          "height": 84
        },
        "outputId": "798b1f01-fbe2-4fc4-9482-f979de216f98"
      },
      "cell_type": "code",
      "source": [
        "import numpy as np\n",
        "\n",
        "T  = np.matrix([[0.0 , 0.1 , 0.9 , 0.0],\n",
        "[0.9 , 0.1 , 0.0 , 0.0],\n",
        "[0.0 , 0.0 , 0.1 , 0.9],\n",
        "[0.9 , 0.0 , 0.0 , 0.1]])\n",
        "g = 0.9\n",
        "r = np.matrix([0, 1., 0., 2.]).reshape(4, 1)\n",
        "\n",
        "print(np.linalg.solve(np.eye(4) - g * T, r))"
      ],
      "execution_count": null,
      "outputs": [
        {
          "output_type": "stream",
          "text": [
            "[[6.05288295]\n",
            " [6.48663207]\n",
            " [6.7519581 ]\n",
            " [7.58553317]]\n"
          ],
          "name": "stdout"
        }
      ]
    }
  ]
}