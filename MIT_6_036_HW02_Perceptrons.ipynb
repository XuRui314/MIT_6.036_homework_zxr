{
  "nbformat": 4,
  "nbformat_minor": 0,
  "metadata": {
    "colab": {
      "name": "MIT 6.036 HW02 - Perceptrons",
      "provenance": [],
      "collapsed_sections": [],
      "include_colab_link": true
    },
    "kernelspec": {
      "name": "python3",
      "display_name": "Python 3"
    }
  },
  "cells": [
    {
      "cell_type": "markdown",
      "metadata": {
        "id": "view-in-github",
        "colab_type": "text"
      },
      "source": [
        "<a href=\"https://colab.research.google.com/github/XuRui314/MIT_6.036_homework_zxr/blob/main/MIT_6_036_HW02_Perceptrons.ipynb\" target=\"_parent\"><img src=\"https://colab.research.google.com/assets/colab-badge.svg\" alt=\"Open In Colab\"/></a>"
      ]
    },
    {
      "cell_type": "markdown",
      "metadata": {
        "id": "_xIaEwCD406A"
      },
      "source": [
        "#MIT 6.036 Fall 2020: Homework 2#\n",
        "\n",
        ">对比了一下mit的排版，还是Tang Jiahui姐姐的格式好，索性就直接在此基础上完成HW了。\n",
        "\n",
        "**If you haven't already, please hit :**\n",
        "\n",
        "`File` -> `Save a Copy in Drive`\n",
        "\n",
        "**to copy this notebook to your Google drive, and work on a copy. If you don't do this, your changes won't be saved!**\n",
        "\n",
        "---\n",
        "\n",
        "\n",
        "This colab notebook provides code and a framework for problems 7-10 of the homework.  You can work out your solutions here, then submit your results back on the homework page when ready.\n"
      ]
    },
    {
      "cell_type": "markdown",
      "metadata": {
        "id": "Wb4bXJC3sFT-"
      },
      "source": [
        "## <section>**Setup**</section>\n",
        "\n",
        "First, download the code distribution for this homework that contains test cases and helper functions (such as `positive`).\n",
        "\n",
        "Run the next code block to download and import the code for this lab."
      ]
    },
    {
      "cell_type": "code",
      "metadata": {
        "id": "2YM-_zLf9Bp-",
        "colab": {
          "base_uri": "https://localhost:8080/"
        },
        "outputId": "a8ea3345-7439-4b87-ffb2-9566f305b4f3"
      },
      "source": [
        "!rm -f code_for_hw02.py*\n",
        "!wget --no-check-certificate --quiet https://introml_oll.odl.mit.edu/6.036/static/homework/hw02/code_for_hw02.py\n",
        "from code_for_hw02 import *"
      ],
      "execution_count": 1,
      "outputs": [
        {
          "output_type": "stream",
          "name": "stdout",
          "text": [
            "Importing code_for_hw02\n",
            "New procedures added: tidy_plot, plot_separator, plot_data, plot_nonlin_sep, cv,\n",
            "                      rv, y, positive, score\n",
            "Data Sets: super_simple_separable_through_origin(), super_simple_separable(), xor(),\n",
            "           xor_more()\n",
            "Test data for problem 2.1: data1, labels1, data2, labels2\n",
            "Test data for problem 2.2: big_data, big_data_labels, gen_big_data(), gen_lin_separable(),\n",
            "                           big_higher_dim_separable(), gen_flipped_lin_separable()\n",
            "Test functions: test_linear_classifier(), test_perceptron(), test_averaged_perceptron(),\n",
            "                test_eval_classifier(), test_eval_learning_alg(), test_xval_learning_alg()\n",
            "\n",
            "For more information, use 'help', e.g. 'help tidy_plot'\n",
            "Done with import of code_for_hw02\n"
          ]
        }
      ]
    },
    {
      "cell_type": "markdown",
      "metadata": {
        "id": "_bhI4dQB1-UZ"
      },
      "source": [
        "# 7) Implement Perceptron\n",
        "\n",
        "Implement [the Perceptron algorithm](https://lms.mitx.mit.edu/courses/course-v1:MITx+6.036+2020_Fall/courseware/Week2/perceptron/2), where\n",
        "\n",
        "* `data` is a numpy array of dimension $d$ by $n$\n",
        "* `labels` is numpy array of dimension $1$ by $n$\n",
        "* `params` is a dictionary specifying extra parameters to this algorithm; your algorithm should run a number of iterations equal to $T$\n",
        "* `hook` is either `None` or a function that takes the tuple `(th, th0)` as an argument and displays the separator graphically.  We won't be testing this in the Tutor, but it will help you in debugging on your own machine.\n",
        "\n",
        "It should return a tuple of $\\theta$ (a $d$ by 1 array) and $\\theta_0$ (a 1 by 1 array).\n",
        "\n",
        "We have given you some  data sets in the code file for you to test your implementation. Below are some test cases.\n",
        "```\n",
        "# Test Case 1\n",
        ">>> data = np.array([[2, 3, 9, 12],\n",
        "                     [5, 2, 6, 5]])\n",
        ">>> labels = np.array([[1, -1, 1, -1]])\n",
        ">>> [x.tolist() for x in perceptron(data, labels, {\"T\": 100})]\n",
        "[[[-24.0], [37.0]], [[-3.0]]]\n",
        "\n",
        "# Test Case 2\n",
        ">>> data = np.array([[1, 2, 1, 2],\n",
        "                     [1, 2, 2, 1]])\n",
        ">>> labels = np.array([[1, 1, -1, -1]])\n",
        ">>> [x.tolist() for x in perceptron(data, labels, {\"T\": 100})]\n",
        "[[[0.0], [-3.0]], [[0.0]]]\n",
        "```\n",
        "\n",
        "Your function should initialize any parameters defined in the function to 0, then run through the data, in the order it is given, performing an update to the parameters whenever the current parameters would make a mistake on that data point. Perform `T` iterations through the data. After every parameter update, if `hook` is defined, call it on the current `(th, th0)` (as a single parameter in a Python tuple)."
      ]
    },
    {
      "cell_type": "code",
      "metadata": {
        "id": "hGuekJd2Wdua"
      },
      "source": [
        "data = np.array([[2, 3, 9, 12],\n",
        "                     [5, 2, 6, 5]])"
      ],
      "execution_count": null,
      "outputs": []
    },
    {
      "cell_type": "code",
      "metadata": {
        "id": "YM_tBN31bco2"
      },
      "source": [
        " labels = np.array([[1, -1, 1, -1]])"
      ],
      "execution_count": null,
      "outputs": []
    },
    {
      "cell_type": "code",
      "metadata": {
        "id": "jysv-zrfbnLy"
      },
      "source": [
        "    theta = np.array([[0],[0]])\n",
        "    theta_0 =  np.array([[0]])"
      ],
      "execution_count": null,
      "outputs": []
    },
    {
      "cell_type": "code",
      "metadata": {
        "id": "vIziKiBZbiIy"
      },
      "source": [
        "a = labels[:,0:0+1]*(theta.T.dot(data[:,0:0+1]) + theta_0)"
      ],
      "execution_count": null,
      "outputs": []
    },
    {
      "cell_type": "code",
      "metadata": {
        "id": "LqYVW5aZb1Yq",
        "outputId": "6a7ba072-fb4d-43da-9b8e-6e6b071fc8a9",
        "colab": {
          "base_uri": "https://localhost:8080/"
        }
      },
      "source": [
        "a[0,0]"
      ],
      "execution_count": null,
      "outputs": [
        {
          "output_type": "execute_result",
          "data": {
            "text/plain": [
              "0"
            ]
          },
          "metadata": {},
          "execution_count": 14
        }
      ]
    },
    {
      "cell_type": "code",
      "metadata": {
        "id": "2PIX2GLoWepq",
        "outputId": "00f75b93-0761-4596-8234-27a7f5f1643d",
        "colab": {
          "base_uri": "https://localhost:8080/"
        }
      },
      "source": [
        "labels[:,3:4]"
      ],
      "execution_count": null,
      "outputs": [
        {
          "output_type": "execute_result",
          "data": {
            "text/plain": [
              "array([[-1]])"
            ]
          },
          "metadata": {},
          "execution_count": 15
        }
      ]
    },
    {
      "cell_type": "code",
      "metadata": {
        "id": "VtYf8ysk-VQU"
      },
      "source": [
        "import numpy as np\n",
        "\n",
        "# x is dimension d by 1\n",
        "# th is dimension d by 1\n",
        "# th0 is dimension 1 by 1\n",
        "# return 1 by 1 matrix of +1, 0, -1\n",
        "def positive(x, th, th0):\n",
        "   return np.sign(th.T@x + th0)\n",
        "\n",
        "# Perceptron algorithm with offset.\n",
        "# data is dimension d by n\n",
        "# labels is dimension 1 by n\n",
        "# T is a positive integer number of steps to run\n",
        "# Perceptron algorithm with offset.\n",
        "# data is dimension d by n\n",
        "# labels is dimension 1 by n\n",
        "# T is a positive integer number of steps to run\n",
        "def perceptron(data, labels, params = {}, hook = None):\n",
        "    # if T not in params, default to 100\n",
        "    T = params.get('T', 100)\n",
        "    (d, n) = data.shape\n",
        "\n",
        "    theta = np.zeros((d, 1)); theta_0 = np.zeros((1, 1))\n",
        "    for t in range(T):\n",
        "        for i in range(n):\n",
        "            x = data[:,i:i+1]\n",
        "            y = labels[:,i:i+1]\n",
        "            if y * positive(x, theta, theta_0) <= 0.0:\n",
        "                theta = theta + y * x\n",
        "                theta_0 = theta_0 + y\n",
        "                if hook: hook((theta, theta_0))\n",
        "    return theta, theta_0"
      ],
      "execution_count": 4,
      "outputs": []
    },
    {
      "cell_type": "code",
      "metadata": {
        "id": "92r2oL42-yfM",
        "outputId": "b80d2f04-8dc0-4da3-b95d-e824306dde7c",
        "colab": {
          "base_uri": "https://localhost:8080/"
        }
      },
      "source": [
        "test_perceptron(perceptron)"
      ],
      "execution_count": 5,
      "outputs": [
        {
          "output_type": "stream",
          "name": "stdout",
          "text": [
            "-----------Test Perceptron 0-----------\n",
            "Passed! \n",
            "\n",
            "-----------Test Perceptron 1-----------\n",
            "Passed! \n",
            "\n"
          ]
        }
      ]
    },
    {
      "cell_type": "markdown",
      "metadata": {
        "id": "hQMcSWlmB4-Y"
      },
      "source": [
        "# 8) Implement Averaged Perceptron\n",
        "\n",
        "Regular perceptron can be somewhat sensitive to the most recent examples that it sees. Instead, averaged perceptron produces a more stable output by outputting the average value of `th` and `th0` across all iterations.\n",
        "\n",
        "Below are some test cases.\n",
        "```\n",
        "# Test Case 1\n",
        ">>> data = np.array([[2, 3, 9, 12],\n",
        "                     [5, 2, 6, 5]])\n",
        ">>> labels = np.array([[1, -1, 1, -1]])\n",
        ">>> [x.tolist() for x in averaged_perceptron(data, labels, {\"T\": 100})]\n",
        "[[[-22.1925], [34.06]], [[-2.1725]]]\n",
        "\n",
        "# Test Case 2\n",
        ">>> data = np.array([[1, 2, 1, 2],\n",
        "                     [1, 2, 2, 1]])\n",
        ">>> labels = np.array([[1, 1, -1, -1]])\n",
        ">>> [x.tolist() for x in averaged_perceptron(data, labels, {\"T\": 100})]\n",
        "[[[1.47], [-1.7275]], [[0.985]]]\n",
        "```\n",
        "\n",
        "\n",
        "Implement averaged perceptron with the same spec as regular perceptron, and using the pseudocode below as a guide.\n",
        "\n",
        "<pre>\n",
        "procedure averaged_perceptron({(x^(i), y^(i)), i=1,...n}, T)\n",
        "    th = 0 (d by 1); th0 = 0 (1 by 1)\n",
        "    ths = 0 (d by 1); th0s = 0 (1 by 1)\n",
        "    for t = 1,...,T do:\n",
        "        for i = 1,...,n do:\n",
        "\t        if y^(i)(th . x^(i) + th0) <= 0 then\n",
        "              th = th + y^(i)x^(i)\n",
        "              th0 = th0 + y^(i)\n",
        "\t        ths = ths + th\n",
        "\t        th0s = th0s + th0\n",
        "    return ths/(nT), th0s/(nT)\n",
        "</pre>"
      ]
    },
    {
      "cell_type": "code",
      "metadata": {
        "id": "XAwW00MU_FzS"
      },
      "source": [
        "import numpy as np\n",
        "# row representation\n",
        "def averaged_perceptron(data, labels, params = {}, hook = None):\n",
        "       # if T not in params, default to 100\n",
        "    T = params.get('T', 100)\n",
        "\n",
        "    # Your implementation here\n",
        "    (d, n) = data.shape\n",
        "    th = np.zeros((1, d)); ths = np.zeros((1, d)) # 2-dim\n",
        "    th0 = np.zeros((1, 1)); th0s = np.zeros((1, 1)) # 2-dim\n",
        "    data = data.T # row representation\n",
        "\n",
        "    for t in range(T):\n",
        "        for i in range(n):\n",
        "            yi = labels[:, i : i + 1] # 2-dim\n",
        "            xi = data[i:i+1, :] # 2-dim\n",
        "            '''\n",
        "            also can be written as\n",
        "            yi = labels[0, i] # 1-dim\n",
        "            xi = data[i] # 1-dim\n",
        "            '''\n",
        "            if yi * (xi@th.T + th0) <= 0.0:\n",
        "                th += yi * xi\n",
        "                th0 += yi\n",
        "                if hook: hook((th, th0))\n",
        "            ths += th\n",
        "            th0s += th0\n",
        "\n",
        "    return (ths / (n * T)).T, th0s / (n * T)"
      ],
      "execution_count": 6,
      "outputs": []
    },
    {
      "cell_type": "code",
      "metadata": {
        "id": "kyLGH0_cBFSU",
        "outputId": "f6c3487d-bdfb-4a0a-b9ef-ce1b4b7dc4ce",
        "colab": {
          "base_uri": "https://localhost:8080/"
        }
      },
      "source": [
        "test_averaged_perceptron(averaged_perceptron)"
      ],
      "execution_count": 7,
      "outputs": [
        {
          "output_type": "stream",
          "name": "stdout",
          "text": [
            "-----------Test Averaged Perceptron 0-----------\n",
            "Passed! \n",
            "\n",
            "-----------Test Averaged Perceptron 1-----------\n",
            "Passed! \n",
            "\n"
          ]
        }
      ]
    },
    {
      "cell_type": "markdown",
      "metadata": {
        "id": "NTfGq7LNGceQ"
      },
      "source": [
        "# 9) Implement Evaluation Strategies\n",
        "  \n",
        "## 9.1)  Evaluating a Classifier\n",
        "\n",
        "To evaluate a classifier, we are interested in how well it performs on data that it wasn't trained on. Construct a testing procedure that uses a training data set, calls a learning algorithm to get a linear separator (a tuple of $\\theta, \\theta_0$), and then reports the percentage correct on a new testing set as a float between $0.0$ and $1.0$.\n",
        "\n",
        "The learning algorithm is passed as a function that takes a data array and a labels vector.  Your evaluator should be able to interchangeably evaluate `perceptron` or `averaged_perceptron` (or future algorithms with the same spec), depending on what is passed through the `learner` parameter.\n",
        "\n",
        "Assume that you have available the function `score` from HW 1, which takes inputs:\n",
        "\n",
        "* `data`: a `d` by `n` array of floats (representing `n` data points in `d` dimensions)\n",
        "* `labels`: a `1` by `n` array of elements in `(+1, -1)`, representing target labels\n",
        "* `th`: a `d` by `1` array of floats that together with `th0`, represents a hyperplane\n",
        "* `th0`: a single scalar or `1` by `1` array\n",
        "\n",
        "and returns a scalar number of data points that the separator correctly classified.\n",
        "\n",
        "The `eval_classifier` function should accept the following parameters:\n",
        "\n",
        "* `learner` - a function, such as `perceptron` or `averaged_perceptron`\n",
        "* `data_train` - training data\n",
        "* `labels_train` - training labels\n",
        "* `data_test` - test data\n",
        "* `labels_test` - test labels\n",
        "\n",
        "and returns the percentage correct on a new testing set as a float between $0.0$ and $1.0$.\n"
      ]
    },
    {
      "cell_type": "code",
      "metadata": {
        "id": "uSip1lfHBKaT"
      },
      "source": [
        "import numpy as np\n",
        "def eval_classifier(learner, data_train, labels_train, data_test, labels_test):\n",
        "    th, th0 = learner(data_train, labels_train)\n",
        "    return score(data_test, labels_test, th, th0)/data_test.shape[1]"
      ],
      "execution_count": 8,
      "outputs": []
    },
    {
      "cell_type": "code",
      "metadata": {
        "id": "beHMGAb6BTu1",
        "outputId": "ca4a1629-8ada-4506-89b2-f6b66649d854",
        "colab": {
          "base_uri": "https://localhost:8080/"
        }
      },
      "source": [
        "test_eval_classifier(eval_classifier, perceptron)"
      ],
      "execution_count": 9,
      "outputs": [
        {
          "output_type": "stream",
          "name": "stdout",
          "text": [
            "-----------Test Eval Classifier 0-----------\n",
            "Passed! \n",
            "\n",
            "-----------Test Eval Classifier 1-----------\n",
            "Passed! \n",
            "\n"
          ]
        }
      ]
    },
    {
      "cell_type": "markdown",
      "metadata": {
        "id": "-WPStky3GiJb"
      },
      "source": [
        "## 9.2) Evaluating a Learning algorithm using a data source\n",
        "\n",
        "Construct a testing procedure that takes a learning algorithm and a data source as input and runs the learning algorithm multiple times, each time evaluating the resulting classifier as above. It should report the overall average classification accuracy.\n",
        "\n",
        "You can use our implementation of `eval_classifier` by viewing the answer for that question and copying its definition into your code cell.\n",
        "\n",
        "Write the function `eval_learning_alg` that takes:\n",
        "\n",
        "* `learner` - a function, such as `perceptron` or `averaged_perceptron`\n",
        "* `data_gen` - a data generator, call it with a desired data set size; returns a tuple `(data, labels)`\n",
        "* `n_train` - the size of the learning sets\n",
        "* `n_test` - the size of the test sets\n",
        "* `it` - the number of iterations to average over\n",
        "\n",
        "and returns the average classification accuracy as a float between $0.0$ and $1.0$.\n",
        "\n",
        "**Note: Be sure to generate your training data separately before testing data, to ensure that the pseudo-randomly generated data matches that in the test code.**"
      ]
    },
    {
      "cell_type": "code",
      "metadata": {
        "id": "6qytb8giBXZq"
      },
      "source": [
        "def eval_learning_alg(learner, data_gen, n_train, n_test, it):\n",
        "    score = 0\n",
        "    # Your implementation here\n",
        "    for i in range(it):\n",
        "        train_x, train_y = data_gen(n_train)\n",
        "        test_x, test_y = data_gen(n_test)\n",
        "        score += eval_classifier(learner, train_x, train_y, test_x, test_y)\n",
        "    return score/it"
      ],
      "execution_count": 10,
      "outputs": []
    },
    {
      "cell_type": "code",
      "metadata": {
        "id": "uCZojUBJBb06",
        "outputId": "cc22c678-db98-4eae-b0d5-dad4135e6c36",
        "colab": {
          "base_uri": "https://localhost:8080/"
        }
      },
      "source": [
        "test_eval_learning_alg(eval_learning_alg, perceptron)"
      ],
      "execution_count": 11,
      "outputs": [
        {
          "output_type": "stream",
          "name": "stdout",
          "text": [
            "-----------Test Eval Learning Algo-----------\n",
            "Passed! \n",
            "\n"
          ]
        }
      ]
    },
    {
      "cell_type": "markdown",
      "metadata": {
        "id": "60u9G0QnGzv-"
      },
      "source": [
        "## 9.3) Evaluating a Learning Algorithm With a Fixed Dataset\n",
        "\n",
        "Cross-validation is a strategy for evaluating a learning algorithm, using a single training set of size $n$. Cross-validation takes in a learning algorithm $L$, a fixed data set $\\mathcal{D}$, and a parameter $k$. It will run the learning algorithm $k$ different times, then evaluate the accuracy of the resulting classifier, and ultimately return the average of the accuracies over each of the $k$ \"runs\" of $L$. It is structured like this:\n",
        "\n",
        "<pre><code>divide D into k parts, as equally as possible;  call them D_i for i == 0 .. k-1\n",
        "# be sure the data is shuffled in case someone put all the positive examples first in the data!\n",
        "for j from 0 to k-1:\n",
        "    D_minus_j = union of all the datasets D_i, except for D_j\n",
        "    h_j = L(D_minus_j)\n",
        "    score_j = accuracy of h_j measured on D_j\n",
        "return average(score0, ..., score(k-1))</code></pre>\n",
        "\n",
        "So, each time, it trains on  $k−1$ of the pieces of the data set and tests the resulting hypothesis on the piece that was not used for training.\n",
        "\n",
        "When $k=n$, it is called *leave-one-out cross validation*.\n",
        "\n",
        "Implement cross validation **assuming that the input data is shuffled already** so that the positives and negatives are distributed randomly. If the size of the data does not evenly divide by k, split the data into `n % k` sub-arrays of size `n // k + 1` and the rest of size `n // k`.\n",
        "\n",
        "You can use <a href=\"https://docs.scipy.org/doc/numpy/reference/generated/numpy.array_split.html\">np.array_split</a>\n",
        "and <a href=\"https://docs.scipy.org/doc/numpy/reference/generated/numpy.concatenate.html\">np.concatenate</a> with axis arguments to split and rejoin the data as you desire. You can also use our implementation of `eval_classifier` by viewing the answer for that question and copying its definition into your code cell.\n",
        "\n",
        "Note: In Python, `n//k` indicates integer division, e.g. `2//3 = 0` and `4//3 = 1`."
      ]
    },
    {
      "cell_type": "code",
      "metadata": {
        "id": "W5_iixOmBgR7"
      },
      "source": [
        "def xval_learning_alg(learner, data, labels, k):\n",
        "    data = np.array(data)\n",
        "    labels = np.array(labels)\n",
        "    data_split = np.hsplit(data, k)\n",
        "    label_split = np.hsplit(labels, k)\n",
        "\n",
        "    # training classifier\n",
        "    score = 0\n",
        "    for i in range(k):\n",
        "        data_train = np.concatenate((data_split[:i]+data_split[i+1:]), axis = 1)\n",
        "        labels_train = np.concatenate((label_split[:i]+label_split[i+1:]), axis = 1)\n",
        "        data_test = data_split[i]\n",
        "        labels_test = label_split[i]\n",
        "        score += eval_classifier(learner, data_train, labels_train, data_test, labels_test)\n",
        "    return score/k  "
      ],
      "execution_count": 12,
      "outputs": []
    },
    {
      "cell_type": "code",
      "metadata": {
        "id": "iUiUgtMHBiZX",
        "outputId": "4c282384-d48d-4601-fbe6-a79bc80a1d80",
        "colab": {
          "base_uri": "https://localhost:8080/"
        }
      },
      "source": [
        "test_xval_learning_alg(xval_learning_alg, perceptron)"
      ],
      "execution_count": 13,
      "outputs": [
        {
          "output_type": "stream",
          "name": "stdout",
          "text": [
            "-----------Test Cross-eval Learning Algo-----------\n",
            "Passed! \n",
            "\n"
          ]
        }
      ]
    },
    {
      "cell_type": "markdown",
      "metadata": {
        "id": "crF8flfB3hr1"
      },
      "source": [
        "## 10) Testing\n",
        "\n",
        "In this section, we compare the effectiveness of perceptron and averaged perceptron on some data that are not necessarily linearly separable.\n",
        "\n",
        "Use your `eval_learning_alg` and the `gen_flipped_lin_separable`\n",
        "function in the code file to evaluate the accuracy of `perceptron`\n",
        "vs. `averaged_perceptron`.  `gen_flipped_lin_separable` is a wrapper\n",
        "function that returns a generator - `flip_generator`, which can be\n",
        "called with an integer to return a data set and labels.  Note that this\n",
        "generates linearly separable data and then \"flips\" the labels with\n",
        "some specified probability (the argument `pflip`); so most of the\n",
        "results will not be linearly separable.  You can also **specifiy** `pflip`\n",
        "in the call to the generator wrapper function. At the\n",
        "bottom of the code distribution is an example.\n",
        "\n",
        "Run enough trials (`it` > 100) so that you can confidently predict the accuracy of these algorithms on new data from that same generator; assume\n",
        "training/test sets on the order of 20 points.  The Tutor will check\n",
        "that your answer is within `0.025` of the answer we got using the same\n",
        "generator."
      ]
    },
    {
      "cell_type": "code",
      "metadata": {
        "id": "CXFoptqiI6Aw",
        "outputId": "fe0a6e18-ee4b-4ad9-b4b8-ca08023b022b",
        "colab": {
          "base_uri": "https://localhost:8080/"
        }
      },
      "source": [
        "data_gen = gen_flipped_lin_separable(pflip=0.1)\n",
        "print(eval_learning_alg(perceptron, data_gen, n_train=20, n_test=20, it=100))"
      ],
      "execution_count": 14,
      "outputs": [
        {
          "output_type": "stream",
          "name": "stdout",
          "text": [
            "0.7329999999999999\n"
          ]
        }
      ]
    },
    {
      "cell_type": "code",
      "metadata": {
        "id": "SvNnYgOhd-bs",
        "outputId": "0452f26c-6bbc-478f-ebb2-39e6f5bd36f4",
        "colab": {
          "base_uri": "https://localhost:8080/"
        }
      },
      "source": [
        "data_gen = gen_flipped_lin_separable(pflip=0.1)\n",
        "print(eval_learning_alg(averaged_perceptron, data_gen, n_train=20, n_test=20, it=100))"
      ],
      "execution_count": 15,
      "outputs": [
        {
          "output_type": "stream",
          "name": "stdout",
          "text": [
            "0.7955000000000001\n"
          ]
        }
      ]
    },
    {
      "cell_type": "code",
      "metadata": {
        "id": "na9tWDkMenIJ",
        "outputId": "fcce0868-2f56-4dee-cc35-42c2464b831a",
        "colab": {
          "base_uri": "https://localhost:8080/"
        }
      },
      "source": [
        "data_gen = gen_flipped_lin_separable(pflip=0.25)\n",
        "print(eval_learning_alg(perceptron, data_gen, n_train=20, n_test=20, it=100))"
      ],
      "execution_count": 16,
      "outputs": [
        {
          "output_type": "stream",
          "name": "stdout",
          "text": [
            "0.607\n"
          ]
        }
      ]
    },
    {
      "cell_type": "code",
      "metadata": {
        "id": "n2zvFFvbe3Jg",
        "outputId": "fe006aae-920f-466d-a6f7-f6c0f0f2a379",
        "colab": {
          "base_uri": "https://localhost:8080/"
        }
      },
      "source": [
        "data_gen = gen_flipped_lin_separable(pflip=0.25)\n",
        "print(eval_learning_alg(averaged_perceptron, data_gen, n_train=20, n_test=20, it=100))"
      ],
      "execution_count": 17,
      "outputs": [
        {
          "output_type": "stream",
          "name": "stdout",
          "text": [
            "0.6250000000000001\n"
          ]
        }
      ]
    },
    {
      "cell_type": "code",
      "metadata": {
        "id": "Adx6QbROfrg8"
      },
      "source": [
        "def eval_learning_alg(learner, data_gen, n_train, n_test, it):\n",
        "    score = 0\n",
        "    # Your implementation here\n",
        "    for i in range(it):\n",
        "        train_x, train_y = data_gen(n_train)\n",
        "        #test_x, test_y = data_gen(n_test)\n",
        "        score += eval_classifier(learner, train_x, train_y, train_x, train_y)\n",
        "    return score/it"
      ],
      "execution_count": 18,
      "outputs": []
    },
    {
      "cell_type": "code",
      "metadata": {
        "id": "25yuceaLf50t",
        "outputId": "517c9627-d83c-4ccf-c36c-e34de7556954",
        "colab": {
          "base_uri": "https://localhost:8080/"
        }
      },
      "source": [
        "data_gen = gen_flipped_lin_separable(pflip=0.1)\n",
        "print(eval_learning_alg(perceptron, data_gen, n_train=20, n_test=20, it=100))"
      ],
      "execution_count": 19,
      "outputs": [
        {
          "output_type": "stream",
          "name": "stdout",
          "text": [
            "0.8220000000000005\n"
          ]
        }
      ]
    },
    {
      "cell_type": "code",
      "metadata": {
        "id": "Cyx1n26JgAOQ",
        "outputId": "a0b4c117-d980-487b-cabe-2c7c59b44024",
        "colab": {
          "base_uri": "https://localhost:8080/"
        }
      },
      "source": [
        "data_gen = gen_flipped_lin_separable(pflip=0.1)\n",
        "print(eval_learning_alg(averaged_perceptron, data_gen, n_train=20, n_test=20, it=100))"
      ],
      "execution_count": 20,
      "outputs": [
        {
          "output_type": "stream",
          "name": "stdout",
          "text": [
            "0.8750000000000003\n"
          ]
        }
      ]
    },
    {
      "cell_type": "code",
      "metadata": {
        "id": "wzXNxaS-gCPz",
        "outputId": "6da0fca8-7c9d-4118-fe54-e3b1f3581140",
        "colab": {
          "base_uri": "https://localhost:8080/"
        }
      },
      "source": [
        "data_gen = gen_flipped_lin_separable(pflip=0.25)\n",
        "print(eval_learning_alg(perceptron, data_gen, n_train=20, n_test=20, it=100))"
      ],
      "execution_count": 21,
      "outputs": [
        {
          "output_type": "stream",
          "name": "stdout",
          "text": [
            "0.6635\n"
          ]
        }
      ]
    },
    {
      "cell_type": "code",
      "metadata": {
        "id": "mqU1r5MtgEFm",
        "outputId": "51eb80d5-34b7-4385-fae5-bb12ca474bdc",
        "colab": {
          "base_uri": "https://localhost:8080/"
        }
      },
      "source": [
        "data_gen = gen_flipped_lin_separable(pflip=0.25)\n",
        "print(eval_learning_alg(averaged_perceptron, data_gen, n_train=20, n_test=20, it=100))"
      ],
      "execution_count": 22,
      "outputs": [
        {
          "output_type": "stream",
          "name": "stdout",
          "text": [
            "0.7354999999999997\n"
          ]
        }
      ]
    }
  ]
}